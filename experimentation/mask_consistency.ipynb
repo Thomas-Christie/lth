{
 "cells": [
  {
   "cell_type": "code",
   "execution_count": 1,
   "metadata": {
    "collapsed": true
   },
   "outputs": [],
   "source": [
    "import numpy as np\n",
    "import pandas as pd\n",
    "import matplotlib\n",
    "import torch\n",
    "import models.registry\n",
    "import matplotlib.pyplot as plt\n",
    "import json\n",
    "\n",
    "plt.rcParams['text.usetex'] = True\n",
    "plt.rcParams['font.size'] = 12\n",
    "plt.rcParams['axes.linewidth'] = 1.5\n",
    "plt.rcParams[\"figure.figsize\"] = (9,6)"
   ]
  },
  {
   "cell_type": "markdown",
   "source": [
    "### Magnitude Pruning"
   ],
   "metadata": {
    "collapsed": false
   }
  },
  {
   "cell_type": "code",
   "execution_count": 2,
   "outputs": [],
   "source": [
    "mask_one = torch.load(\"../open_lth_data/lottery_2f4be23b7e4c30fb5fbf086d41cfacb7/replicate_1/level_26/main/mask.pth\")\n",
    "mask_two = torch.load(\"../open_lth_data/lottery_2f4be23b7e4c30fb5fbf086d41cfacb7/replicate_2/level_26/main/mask.pth\")\n",
    "mask_three = torch.load(\"../open_lth_data/lottery_2f4be23b7e4c30fb5fbf086d41cfacb7/replicate_3/level_26/main/mask.pth\")"
   ],
   "metadata": {
    "collapsed": false
   }
  },
  {
   "cell_type": "code",
   "execution_count": 3,
   "outputs": [],
   "source": [
    "mask_layer_names = [k for k, _ in mask_one.items()]"
   ],
   "metadata": {
    "collapsed": false
   }
  },
  {
   "cell_type": "code",
   "execution_count": 4,
   "outputs": [
    {
     "name": "stdout",
     "output_type": "stream",
     "text": [
      "Layer: fc_layers.0.weight In All: 0 In Two: 8 In One: 1021\n",
      "Layer: fc_layers.1.weight In All: 0 In Two: 12 In One: 799\n",
      "Layer: fc.weight In All: 30 In Two: 140 In One: 384\n"
     ]
    }
   ],
   "source": [
    "# Doesn't always seem to select the same mask\n",
    "summed = {}\n",
    "for layer in mask_layer_names:\n",
    "    sum_masks = mask_one[layer] + mask_two[layer] + mask_three[layer]\n",
    "    summed[layer] = sum_masks\n",
    "    print(f\"Layer: {layer} In All: {torch.sum(sum_masks[sum_masks==3])} In Two: {torch.sum(sum_masks[sum_masks==2])} In One: {torch.sum(sum_masks[sum_masks==1])}\")"
   ],
   "metadata": {
    "collapsed": false
   }
  },
  {
   "cell_type": "code",
   "execution_count": 5,
   "outputs": [
    {
     "name": "stdout",
     "output_type": "stream",
     "text": [
      "Layer: fc_layers.0.weight Mean % Remaining: 0.1458333283662796 (+/-)0.0014728315873071551%\n",
      "Layer: fc_layers.1.weight Mean % Remaining: 0.9011111259460449 (+/-)0.01677742227911949%\n",
      "Layer: fc.weight Mean % Remaining: 18.46666717529297 (+/-)0.6429103016853333%\n"
     ]
    }
   ],
   "source": [
    "summed = {}\n",
    "for layer in mask_layer_names:\n",
    "    num_in_layer = torch.numel(mask_one[layer])\n",
    "    mask_one_percent_remain = 100.0*torch.sum(mask_one[layer])/num_in_layer\n",
    "    mask_two_percent_remain = 100.0*torch.sum(mask_two[layer])/num_in_layer\n",
    "    mask_three_percent_remain = 100.0*torch.sum(mask_three[layer])/num_in_layer\n",
    "    tensor = torch.Tensor([mask_one_percent_remain, mask_two_percent_remain, mask_three_percent_remain])\n",
    "    std_remaining = torch.std(tensor)\n",
    "    mean_remaining = torch.mean(tensor)\n",
    "    print(f\"Layer: {layer} Mean % Remaining: {mean_remaining} (+/-){std_remaining}%\")"
   ],
   "metadata": {
    "collapsed": false
   }
  },
  {
   "cell_type": "markdown",
   "source": [
    "Final layer is most important"
   ],
   "metadata": {
    "collapsed": false
   }
  },
  {
   "cell_type": "markdown",
   "source": [
    "### Fisher Pruning"
   ],
   "metadata": {
    "collapsed": false
   }
  },
  {
   "cell_type": "code",
   "execution_count": 22,
   "outputs": [],
   "source": [
    "mask_one = torch.load(\"../open_lth_data/lottery_a36edb229aed327b8e25e0685c350491/replicate_1/level_26/main/mask.pth\")\n",
    "mask_two = torch.load(\"../open_lth_data/lottery_a36edb229aed327b8e25e0685c350491/replicate_2/level_26/main/mask.pth\")\n",
    "mask_three = torch.load(\"../open_lth_data/lottery_a36edb229aed327b8e25e0685c350491/replicate_3/level_26/main/mask.pth\")"
   ],
   "metadata": {
    "collapsed": false
   }
  },
  {
   "cell_type": "code",
   "execution_count": 23,
   "outputs": [],
   "source": [
    "mask_layer_names = [k for k, _ in mask_one.items()]"
   ],
   "metadata": {
    "collapsed": false
   }
  },
  {
   "cell_type": "code",
   "execution_count": 24,
   "outputs": [
    {
     "name": "stdout",
     "output_type": "stream",
     "text": [
      "Layer: fc.weight In All: 12 In Two: 86 In One: 316\n",
      "Layer: fc_layers.1.weight In All: 3 In Two: 10 In One: 667\n",
      "Layer: fc_layers.0.weight In All: 0 In Two: 20 In One: 1280\n"
     ]
    }
   ],
   "source": [
    "# Doesn't seem to always select the same mask\n",
    "summed = {}\n",
    "for layer in mask_layer_names:\n",
    "    sum_masks = mask_one[layer] + mask_two[layer] + mask_three[layer]\n",
    "    summed[layer] = mask_one[layer] + mask_two[layer] + mask_three[layer]\n",
    "    print(f\"Layer: {layer} In All: {torch.sum(sum_masks[sum_masks==3])} In Two: {torch.sum(sum_masks[sum_masks==2])} In One: {torch.sum(sum_masks[sum_masks==1])}\")"
   ],
   "metadata": {
    "collapsed": false
   }
  },
  {
   "cell_type": "code",
   "execution_count": 25,
   "outputs": [
    {
     "name": "stdout",
     "output_type": "stream",
     "text": [
      "Layer: fc.weight Mean % Remaining: 13.800000190734863 (+/-)1.2124358415603638%\n",
      "Layer: fc_layers.1.weight Mean % Remaining: 0.7555555701255798 (+/-)0.02143031544983387%\n",
      "Layer: fc_layers.0.weight Mean % Remaining: 0.18424035608768463 (+/-)0.0030757561326026917%\n"
     ]
    }
   ],
   "source": [
    "summed = {}\n",
    "for layer in mask_layer_names:\n",
    "    num_in_layer = torch.numel(mask_one[layer])\n",
    "    mask_one_percent_remain = 100.0*torch.sum(mask_one[layer])/num_in_layer\n",
    "    mask_two_percent_remain = 100.0*torch.sum(mask_two[layer])/num_in_layer\n",
    "    mask_three_percent_remain = 100.0*torch.sum(mask_three[layer])/num_in_layer\n",
    "    tensor = torch.Tensor([mask_one_percent_remain, mask_two_percent_remain, mask_three_percent_remain])\n",
    "    std_remaining = torch.std(tensor)\n",
    "    mean_remaining = torch.mean(tensor)\n",
    "    print(f\"Layer: {layer} Mean % Remaining: {mean_remaining} (+/-){std_remaining}%\")"
   ],
   "metadata": {
    "collapsed": false
   }
  },
  {
   "cell_type": "markdown",
   "source": [
    "Final layer still most important, but more get pruned from it than with magnitude pruning"
   ],
   "metadata": {
    "collapsed": false
   }
  },
  {
   "cell_type": "markdown",
   "source": [
    "### Fisher Pruning with Same Initialised Weights"
   ],
   "metadata": {
    "collapsed": false
   }
  },
  {
   "cell_type": "code",
   "execution_count": 26,
   "outputs": [],
   "source": [
    "model_one = torch.load(\"../open_lth_data/lottery_cd266af56b88fdc609f3b0730099b9ae/replicate_1/level_26/main/model_ep40_it0.pth\")\n",
    "model_two = torch.load(\"../open_lth_data/lottery_2b91610079d8174227c1809b75f0e9e4/replicate_1/level_26/main/model_ep40_it0.pth\")\n",
    "model_three = torch.load(\"../open_lth_data/lottery_2af457c79d4e038d286bec9526b32902/replicate_1/level_26/main/model_ep40_it0.pth\")"
   ],
   "metadata": {
    "collapsed": false
   }
  },
  {
   "cell_type": "code",
   "execution_count": 27,
   "outputs": [],
   "source": [
    "mask_one = torch.load(\"../open_lth_data/lottery_cd266af56b88fdc609f3b0730099b9ae/replicate_1/level_26/main/mask.pth\")\n",
    "mask_two = torch.load(\"../open_lth_data/lottery_2b91610079d8174227c1809b75f0e9e4/replicate_1/level_26/main/mask.pth\")\n",
    "mask_three = torch.load(\"../open_lth_data/lottery_2af457c79d4e038d286bec9526b32902/replicate_1/level_26/main/mask.pth\")"
   ],
   "metadata": {
    "collapsed": false
   }
  },
  {
   "cell_type": "code",
   "execution_count": 28,
   "outputs": [],
   "source": [
    "mask_layer_names = [k for k, _ in mask_one.items()]"
   ],
   "metadata": {
    "collapsed": false
   }
  },
  {
   "cell_type": "code",
   "execution_count": 29,
   "outputs": [
    {
     "name": "stdout",
     "output_type": "stream",
     "text": [
      "Layer: fc.weight In All: 99 In Two: 182 In One: 240\n",
      "Layer: fc_layers.1.weight In All: 6 In Two: 56 In One: 598\n",
      "Layer: fc_layers.0.weight In All: 0 In Two: 56 In One: 1157\n"
     ]
    }
   ],
   "source": [
    "# Doesn't seem to always select the same mask\n",
    "summed = {}\n",
    "for layer in mask_layer_names:\n",
    "    sum_masks = mask_one[layer] + mask_two[layer] + mask_three[layer]\n",
    "    summed[layer] = mask_one[layer] + mask_two[layer]\n",
    "    print(f\"Layer: {layer} In All: {torch.sum(sum_masks[sum_masks==3])} In Two: {torch.sum(sum_masks[sum_masks==2])} In One: {torch.sum(sum_masks[sum_masks==1])}\")"
   ],
   "metadata": {
    "collapsed": false
   }
  },
  {
   "cell_type": "code",
   "execution_count": 30,
   "outputs": [
    {
     "name": "stdout",
     "output_type": "stream",
     "text": [
      "Layer: fc.weight Mean % Remaining: 17.366666793823242 (+/-)1.1503618955612183%\n",
      "Layer: fc_layers.1.weight Mean % Remaining: 0.7333333492279053 (+/-)0.023094022646546364%\n",
      "Layer: fc_layers.0.weight Mean % Remaining: 0.17191042006015778 (+/-)0.005645851604640484%\n"
     ]
    }
   ],
   "source": [
    "summed = {}\n",
    "for layer in mask_layer_names:\n",
    "    num_in_layer = torch.numel(mask_one[layer])\n",
    "    mask_one_percent_remain = 100.0*torch.sum(mask_one[layer])/num_in_layer\n",
    "    mask_two_percent_remain = 100.0*torch.sum(mask_two[layer])/num_in_layer\n",
    "    mask_three_percent_remain = 100.0*torch.sum(mask_three[layer])/num_in_layer\n",
    "    tensor = torch.Tensor([mask_one_percent_remain, mask_two_percent_remain, mask_three_percent_remain])\n",
    "    std_remaining = torch.std(tensor)\n",
    "    mean_remaining = torch.mean(tensor)\n",
    "    print(f\"Layer: {layer} Mean % Remaining: {mean_remaining} (+/-){std_remaining}%\")"
   ],
   "metadata": {
    "collapsed": false
   }
  },
  {
   "cell_type": "code",
   "execution_count": 33,
   "outputs": [
    {
     "name": "stdout",
     "output_type": "stream",
     "text": [
      "tensor([[ 0.3752,  0.0000,  0.0000, -1.6033,  0.0000,  0.0000,  0.0000, -0.0000,\n",
      "          0.0000,  0.9133,  0.0000, -0.0000,  0.0000, -0.0000, -0.0000,  0.0000,\n",
      "          0.0000, -0.0000, -0.0000,  0.5125, -0.0000, -0.0000,  0.0000,  0.0000,\n",
      "          0.0000,  0.0000,  0.0000, -0.0000, -0.0000, -0.0000, -0.0000,  0.0000,\n",
      "         -0.0000, -0.0000, -0.0000,  0.0000,  0.0000, -0.0000,  0.0000,  0.0000,\n",
      "         -0.0000,  0.0000,  0.0000, -0.0000,  0.0000,  0.0000,  0.0000,  0.0000,\n",
      "         -0.0000, -0.0000,  0.0000, -0.0000, -0.0000,  0.0000, -0.2454, -0.0000,\n",
      "         -0.0000,  0.0000, -0.0000, -0.0000,  0.0000,  0.0000, -0.0000,  0.0000,\n",
      "          1.4445, -0.0000,  0.0000,  0.0000,  0.5778, -0.0000,  0.0000,  0.0000,\n",
      "         -0.0000,  0.0000, -0.0000,  0.0000,  0.0000,  0.0000, -1.0548, -0.0000,\n",
      "          0.0000,  0.0000, -0.0000,  0.0000,  0.0000,  0.0000,  0.0000,  0.0000,\n",
      "          0.0000, -0.0000, -0.0000,  0.0000, -0.0000,  0.0000,  0.0000,  0.0000,\n",
      "         -0.0000,  0.0000, -0.0000,  0.0000],\n",
      "        [-0.0000,  0.0000,  0.0000, -0.2449, -0.0000,  0.9502, -0.0000,  0.0000,\n",
      "          0.0000,  0.0000,  0.0000, -0.0000,  0.0000,  0.0000, -0.0000,  0.0000,\n",
      "          0.0000,  0.0000, -0.0000,  0.0000, -0.0000,  0.0000,  0.0000,  0.0000,\n",
      "         -0.0000,  0.0000,  0.0000,  0.0000,  0.0000,  0.0000, -0.0000, -0.0000,\n",
      "         -0.0000,  1.0550,  0.0000,  0.0000,  0.0000,  0.0000, -0.0000,  0.0000,\n",
      "         -0.0000,  0.0000, -0.0000,  0.0000,  0.0000,  1.1089,  0.0000,  0.8785,\n",
      "          0.5249, -0.0000,  0.0000,  0.0000,  0.0000,  1.0452,  0.0000,  1.1339,\n",
      "         -0.0000, -0.0000, -0.0000,  0.1581, -1.2051, -0.0000,  0.0000, -0.0000,\n",
      "          0.0000,  0.0000,  0.0000, -0.0000, -1.0036,  0.0000,  0.0000, -0.0000,\n",
      "          0.0000,  0.0000, -0.0000,  0.0000,  0.0000,  0.4631, -0.0000, -0.0000,\n",
      "         -0.0000,  0.0000, -0.0000,  0.0000,  0.0000, -0.0000, -2.0685,  0.0000,\n",
      "          0.0000, -0.0000,  0.0000,  0.0000,  0.4806, -1.6838,  0.0000, -0.0000,\n",
      "         -0.0000,  0.0000,  0.0000,  0.0000],\n",
      "        [-0.0000, -0.0000, -0.0000, -0.7948,  0.0000,  0.1840, -0.0000,  0.0000,\n",
      "         -0.0000, -1.1239, -0.5920, -0.0000, -0.0000,  0.6671, -0.0000, -0.0000,\n",
      "         -0.0000,  0.0000, -0.0000,  0.7262,  0.0000, -0.0000,  0.0000,  0.0000,\n",
      "         -0.0000,  0.0000, -0.0000, -0.0000, -0.0000, -0.0000,  0.0000,  0.0000,\n",
      "         -0.0000, -0.0000, -0.0000, -0.0000,  0.0000,  0.0000,  0.0000, -0.0000,\n",
      "         -0.0000,  0.0000, -0.0000,  0.0000, -0.0000, -0.0000, -0.0000,  0.7541,\n",
      "          0.9888, -0.0000, -0.0000,  0.8881,  0.0000,  0.3189, -0.0000, -0.0000,\n",
      "         -0.0000, -0.0000, -0.0000, -0.5715, -0.8637, -0.0000, -0.0000,  0.0000,\n",
      "         -0.0000, -0.0000,  0.0000,  0.0000,  0.2564,  0.0000, -0.0000, -0.0000,\n",
      "         -1.5844,  0.5338, -1.0289, -0.0000, -0.0000, -0.0000,  0.6750,  0.0000,\n",
      "          0.0000,  1.0435,  0.0000, -0.0000, -0.0000,  0.0000, -0.0000, -0.0000,\n",
      "          0.7855, -0.0000, -0.0000, -0.0000, -0.0000, -0.0000, -0.0000, -0.0000,\n",
      "          0.0000,  0.0000, -0.0000,  0.0000],\n",
      "        [-0.0000, -0.0000,  0.0000, -0.0000,  0.0000, -0.0000, -0.0000, -0.0000,\n",
      "         -0.0000, -0.0000, -0.6135, -0.0000, -0.0000, -0.5510, -0.0000, -0.0000,\n",
      "         -0.0000, -0.0000,  0.0000, -0.7703,  0.0000,  0.0000,  0.0000, -0.0000,\n",
      "          0.0000,  0.0000, -0.0000, -0.0000,  0.0000,  0.5113, -0.0000, -0.0000,\n",
      "          0.0000, -0.0000, -0.0000,  0.0000,  0.0000,  0.0000,  0.0000, -0.0000,\n",
      "          0.0000, -0.0000, -0.7401,  0.0000,  0.1932,  0.8633, -0.0000, -0.0000,\n",
      "          0.7511, -0.0000, -0.0000, -0.0000, -0.0000, -0.0000, -0.0000, -0.0000,\n",
      "         -0.0000, -0.7930, -0.0000,  0.2970,  0.3737,  0.3302,  0.0000, -0.0000,\n",
      "         -0.5833,  0.0000, -0.0000,  0.0000, -0.0000,  0.0000,  0.8612,  0.4496,\n",
      "         -0.0000,  0.7055, -0.0000,  0.0000, -0.0000, -0.4940, -0.0000,  0.0000,\n",
      "         -0.0000, -0.0000, -0.0000, -0.0000, -0.0000, -0.0000, -0.0000,  0.0000,\n",
      "          0.7347, -0.0000, -0.0000, -0.0000, -0.0000, -0.4137, -0.0000,  0.0000,\n",
      "          0.0000, -0.0000, -0.0000,  0.0000],\n",
      "        [ 0.0000, -0.0000, -0.0000,  0.0000,  0.0000,  0.0000, -1.1836, -0.0000,\n",
      "          0.0000,  0.0000,  0.3532,  0.0000,  0.0000,  0.0000, -0.0000,  0.0000,\n",
      "          0.0000, -0.0000, -0.0000,  0.3590, -0.0000,  0.0000, -0.0000, -0.0000,\n",
      "          0.0000, -0.0000,  0.0000,  0.0000,  0.0000, -0.0000, -0.0000,  0.0000,\n",
      "         -0.0000,  0.8828, -0.0000,  0.0000,  0.0000, -0.0000,  0.0000,  0.8685,\n",
      "          0.0000, -0.0000,  0.0000, -0.0000,  0.0000,  0.4124,  0.0000,  0.0000,\n",
      "         -0.9396,  0.0000,  0.0000, -0.3637, -0.0000,  0.0000, -0.6213,  0.0000,\n",
      "          0.0000,  0.0000, -0.0000,  0.0000,  0.0000, -0.7273, -0.0000,  0.0000,\n",
      "         -0.0000, -0.0000,  0.0000, -0.0000,  0.0000,  0.0000,  0.0000,  0.0000,\n",
      "          0.0000,  0.0000,  0.0000, -0.0000,  0.0000,  1.0638,  0.4861, -0.0000,\n",
      "          0.0000,  0.0000, -0.0000,  0.0000,  0.0000, -0.0000,  0.0000, -0.0000,\n",
      "         -0.7457, -0.0000, -0.0000,  0.0000,  0.0000,  0.0000,  0.0000, -0.0000,\n",
      "          0.0000, -0.0000,  0.0000,  0.0000],\n",
      "        [-0.5812,  0.0000, -0.0000,  0.4275, -0.0000, -0.8483,  0.0000,  0.0000,\n",
      "          0.0000,  0.0000,  0.0000,  0.0000,  0.0000,  0.0000, -0.0000,  0.0000,\n",
      "          0.0000,  0.0000, -0.0000,  0.0000,  0.0000,  0.0000,  0.0000, -0.0000,\n",
      "          0.0000,  0.0000,  0.0000,  0.0000,  0.0000, -0.3843,  0.0000,  0.0000,\n",
      "          0.0000, -0.7250, -0.0000, -0.0000,  0.0000, -0.0000,  0.0000, -0.3920,\n",
      "          0.0000,  0.0000, -0.0000, -0.0000, -1.3139,  0.0000, -1.1253, -0.0000,\n",
      "          0.0000, -0.0000,  0.0000,  0.8265,  0.0000, -0.4915,  0.2634,  0.1806,\n",
      "         -0.0000, -0.4228, -0.0000,  0.0000,  0.7018,  1.4005,  0.0000,  0.0000,\n",
      "         -0.0000, -0.0000,  0.0000, -0.0000, -0.0000,  0.0000,  0.0000,  0.0000,\n",
      "          0.0000, -0.7019,  0.0000,  0.0000, -0.0000,  0.0000, -0.0000, -0.0000,\n",
      "         -0.0000,  0.0000, -0.0000,  0.6145,  0.0000, -0.0000,  0.0000,  0.0000,\n",
      "          0.0000, -0.0000, -0.0000,  0.0000, -0.0000,  0.0000,  0.0000, -0.0000,\n",
      "         -0.0000,  0.0000,  0.8529, -0.0000],\n",
      "        [ 0.8923,  0.0000,  0.0000,  0.0000,  0.0000,  0.0000, -0.0000,  0.0000,\n",
      "         -1.4084,  0.3589, -0.3455,  0.0000,  0.0000,  0.0000,  0.0000,  0.0000,\n",
      "         -0.0000,  0.0000,  0.0000,  0.0000,  0.0000, -0.0000,  0.0000,  0.0000,\n",
      "          0.0000,  0.0000, -0.0000, -0.0000,  0.0000,  0.0000,  0.0000, -0.0000,\n",
      "         -0.0000,  0.0000,  0.0000,  0.0000,  0.0000,  0.0000,  0.0000,  0.0000,\n",
      "         -0.0000, -0.0000,  0.9561,  0.0000, -0.0000,  0.0000, -0.0000,  0.0000,\n",
      "          0.0000,  0.0000,  0.0000,  0.5862, -0.0000,  0.0000,  0.0000, -0.0000,\n",
      "         -0.0000, -0.0000, -0.0000, -1.8310,  0.0000,  0.8163, -0.0000, -0.0000,\n",
      "          0.0000, -0.0000, -0.0000, -0.0000,  0.0000,  0.0000, -0.0000,  0.0000,\n",
      "          0.0000, -1.5376, -0.0000, -0.0000, -0.0000,  1.0824,  0.0000, -0.0000,\n",
      "         -0.0000,  0.0000,  0.0000, -2.1035,  0.6802, -0.0000,  0.0000,  0.0000,\n",
      "         -0.0000,  0.0000,  0.0000,  0.3121,  0.5232,  0.0000, -0.0000,  0.0000,\n",
      "         -0.0000, -0.0000,  1.2455, -0.0000],\n",
      "        [-1.0232,  1.4754,  0.0000,  0.4329,  0.0000,  0.0000,  0.5329,  0.0000,\n",
      "          0.0000,  0.0000,  0.0000, -0.0000,  0.0000,  0.0000, -0.0000, -0.0000,\n",
      "         -0.0000,  0.0000,  0.0000,  0.0729,  0.0000,  0.0000,  0.0000,  0.0000,\n",
      "          0.0000,  0.0000,  0.0000,  0.0000,  0.0000,  0.1102, -0.0000,  0.0000,\n",
      "          0.0000,  0.0000, -0.0000, -0.0000,  0.0000, -0.0000,  0.0000,  0.9729,\n",
      "          0.0000,  0.0000,  0.0000, -0.0000,  0.0000,  0.0000,  0.0000,  0.0000,\n",
      "          0.7291, -0.0000, -0.5231,  0.0000, -0.0000,  0.0000, -1.0489,  0.0000,\n",
      "          0.0000,  0.4258, -0.0000,  0.7028,  0.0000,  0.0000,  0.0000,  0.0000,\n",
      "          0.0000,  0.0367, -0.0000,  0.0000,  0.0000, -0.0000,  0.0000,  0.0000,\n",
      "          0.0000, -0.1469,  0.0000, -0.0000,  0.0000, -0.7994,  0.0000,  0.0000,\n",
      "         -0.0000,  0.0000, -0.0000, -0.5137,  0.0000,  0.0000,  0.0000,  0.0000,\n",
      "          0.9171, -0.0000,  0.0000, -1.1416,  0.0000,  0.0000, -0.0000,  0.0000,\n",
      "          0.0000,  0.0000,  0.0000, -0.0000],\n",
      "        [-0.0000, -0.0000, -0.0000, -0.0000, -0.0000, -0.0000,  0.0000, -0.0000,\n",
      "         -0.0000, -0.0000,  0.7799, -0.0000,  0.0000,  0.0000, -0.0000,  0.0000,\n",
      "         -0.0000, -0.2813,  0.0000, -0.0000,  0.0000, -1.1457,  0.0000, -0.0000,\n",
      "         -0.0000, -0.0000, -0.0000,  0.9590, -0.0000,  0.0000, -0.0000,  0.0000,\n",
      "         -0.0000,  0.0000,  0.0000,  0.0000, -0.0000, -0.0000, -0.0000, -0.6765,\n",
      "         -0.0000,  0.0000, -0.0000,  0.0000,  0.2495, -0.0000, -0.0000,  0.0000,\n",
      "          0.0000, -0.0000,  0.6193,  0.0000, -0.0000,  0.3191,  0.6633,  0.0000,\n",
      "         -0.0000, -0.4648, -0.0000, -0.2890, -0.0000, -0.0000, -0.0000,  0.0000,\n",
      "         -1.0374, -0.2848, -0.0000, -0.0000, -0.0000, -0.0000,  0.0000, -2.3149,\n",
      "         -0.0000, -0.0000, -0.0000,  0.0000, -0.0000, -0.0000, -0.9926,  0.0000,\n",
      "          0.0000, -0.0000, -0.0000, -0.3581, -0.0000, -0.0000,  0.3319, -0.0000,\n",
      "          0.0000, -0.0000,  0.0000,  0.0000,  0.0000, -0.0000, -0.0000, -0.0000,\n",
      "         -0.0000, -0.0000,  0.0000, -0.0000],\n",
      "        [-0.0000,  0.0000,  0.0000,  0.4626, -0.0000, -0.0000, -0.0000, -0.0000,\n",
      "          0.4986, -0.0000,  0.5311, -0.0000,  0.8875, -0.8987,  0.0000, -0.0000,\n",
      "          0.0000, -0.0000, -0.0000, -0.0000,  0.0000, -0.7644,  0.0000, -0.0000,\n",
      "         -0.9384,  0.0000, -0.0000, -0.0000,  0.0000,  0.0000, -0.0000, -0.0000,\n",
      "          0.0000, -0.0000, -0.0000, -0.0000,  0.0000, -0.0000, -0.0000,  0.4730,\n",
      "          0.0000,  0.0000, -0.0000,  0.0000, -0.0000,  0.1507, -0.0000,  0.0000,\n",
      "         -0.4795, -0.0000,  0.8235, -0.5051, -0.0000, -0.8673, -0.5981, -0.0000,\n",
      "          0.0000,  0.5490, -0.0000, -0.0000, -0.0000, -0.0000, -0.0000, -0.0000,\n",
      "         -0.0000,  0.0000,  0.0000, -0.0000, -0.0000,  0.0000, -0.0000,  0.0000,\n",
      "         -0.0000,  0.6801, -0.4695,  0.0000,  0.0000, -1.0501,  0.0000, -0.0000,\n",
      "         -0.0000, -0.4652, -0.0000, -0.0000, -0.0000, -0.0000, -0.0000,  0.0000,\n",
      "          0.0000, -0.0000, -0.0000, -0.0000,  0.6875, -0.0000, -0.0000,  0.0000,\n",
      "          0.0000, -0.0000, -0.0000, -0.0000]])\n"
     ]
    }
   ],
   "source": [
    "print(model_one['fc.weight'])"
   ],
   "metadata": {
    "collapsed": false
   }
  },
  {
   "cell_type": "code",
   "execution_count": 30,
   "outputs": [],
   "source": [],
   "metadata": {
    "collapsed": false
   }
  }
 ],
 "metadata": {
  "kernelspec": {
   "display_name": "Python 3",
   "language": "python",
   "name": "python3"
  },
  "language_info": {
   "codemirror_mode": {
    "name": "ipython",
    "version": 2
   },
   "file_extension": ".py",
   "mimetype": "text/x-python",
   "name": "python",
   "nbconvert_exporter": "python",
   "pygments_lexer": "ipython2",
   "version": "2.7.6"
  }
 },
 "nbformat": 4,
 "nbformat_minor": 0
}
