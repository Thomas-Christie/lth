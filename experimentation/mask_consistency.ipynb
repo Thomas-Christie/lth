{
 "cells": [
  {
   "cell_type": "code",
   "execution_count": 24,
   "metadata": {
    "collapsed": true
   },
   "outputs": [],
   "source": [
    "import numpy as np\n",
    "import pandas as pd\n",
    "import matplotlib\n",
    "import torch\n",
    "import models.registry\n",
    "import matplotlib.pyplot as plt\n",
    "import json\n",
    "\n",
    "plt.rcParams['text.usetex'] = True\n",
    "plt.rcParams['font.size'] = 12\n",
    "plt.rcParams['axes.linewidth'] = 1.5\n",
    "plt.rcParams[\"figure.figsize\"] = (9,6)"
   ]
  },
  {
   "cell_type": "markdown",
   "source": [
    "### Magnitude Pruning"
   ],
   "metadata": {
    "collapsed": false
   }
  },
  {
   "cell_type": "code",
   "execution_count": 26,
   "outputs": [],
   "source": [
    "mask_one = torch.load(\"../open_lth_data/lottery_2f4be23b7e4c30fb5fbf086d41cfacb7/replicate_1/level_26/main/mask.pth\")\n",
    "mask_two = torch.load(\"../open_lth_data/lottery_2f4be23b7e4c30fb5fbf086d41cfacb7/replicate_2/level_26/main/mask.pth\")\n",
    "mask_three = torch.load(\"../open_lth_data/lottery_2f4be23b7e4c30fb5fbf086d41cfacb7/replicate_3/level_26/main/mask.pth\")"
   ],
   "metadata": {
    "collapsed": false
   }
  },
  {
   "cell_type": "code",
   "execution_count": 27,
   "outputs": [],
   "source": [
    "mask_layer_names = [k for k, _ in mask_one.items()]"
   ],
   "metadata": {
    "collapsed": false
   }
  },
  {
   "cell_type": "code",
   "execution_count": 28,
   "outputs": [
    {
     "name": "stdout",
     "output_type": "stream",
     "text": [
      "Layer: fc_layers.0.weight In All: 0 In Two: 8 In One: 1021\n",
      "Layer: fc_layers.1.weight In All: 0 In Two: 12 In One: 799\n",
      "Layer: fc.weight In All: 30 In Two: 140 In One: 384\n"
     ]
    }
   ],
   "source": [
    "# Doesn't always seem to select the same mask\n",
    "summed = {}\n",
    "for layer in mask_layer_names:\n",
    "    sum_masks = mask_one[layer] + mask_two[layer] + mask_three[layer]\n",
    "    summed[layer] = sum_masks\n",
    "    print(f\"Layer: {layer} In All: {torch.sum(sum_masks[sum_masks==3])} In Two: {torch.sum(sum_masks[sum_masks==2])} In One: {torch.sum(sum_masks[sum_masks==1])}\")"
   ],
   "metadata": {
    "collapsed": false
   }
  },
  {
   "cell_type": "code",
   "execution_count": 29,
   "outputs": [
    {
     "name": "stdout",
     "output_type": "stream",
     "text": [
      "Layer: fc_layers.0.weight Mean % Remaining: 0.1458333283662796 (+/-)0.0014728315873071551%\n",
      "Layer: fc_layers.1.weight Mean % Remaining: 0.9011111259460449 (+/-)0.01677742227911949%\n",
      "Layer: fc.weight Mean % Remaining: 18.46666717529297 (+/-)0.6429103016853333%\n"
     ]
    }
   ],
   "source": [
    "summed = {}\n",
    "for layer in mask_layer_names:\n",
    "    num_in_layer = torch.numel(mask_one[layer])\n",
    "    mask_one_percent_remain = 100.0*torch.sum(mask_one[layer])/num_in_layer\n",
    "    mask_two_percent_remain = 100.0*torch.sum(mask_two[layer])/num_in_layer\n",
    "    mask_three_percent_remain = 100.0*torch.sum(mask_three[layer])/num_in_layer\n",
    "    tensor = torch.Tensor([mask_one_percent_remain, mask_two_percent_remain, mask_three_percent_remain])\n",
    "    std_remaining = torch.std(tensor)\n",
    "    mean_remaining = torch.mean(tensor)\n",
    "    print(f\"Layer: {layer} Mean % Remaining: {mean_remaining} (+/-){std_remaining}%\")"
   ],
   "metadata": {
    "collapsed": false
   }
  },
  {
   "cell_type": "markdown",
   "source": [
    "Final layer is most important"
   ],
   "metadata": {
    "collapsed": false
   }
  },
  {
   "cell_type": "markdown",
   "source": [
    "### Fisher Pruning"
   ],
   "metadata": {
    "collapsed": false
   }
  },
  {
   "cell_type": "code",
   "execution_count": 31,
   "outputs": [],
   "source": [
    "mask_one = torch.load(\"../open_lth_data/lottery_a36edb229aed327b8e25e0685c350491/replicate_1/level_26/main/mask.pth\")\n",
    "mask_two = torch.load(\"../open_lth_data/lottery_a36edb229aed327b8e25e0685c350491/replicate_2/level_26/main/mask.pth\")\n",
    "mask_three = torch.load(\"../open_lth_data/lottery_a36edb229aed327b8e25e0685c350491/replicate_3/level_26/main/mask.pth\")"
   ],
   "metadata": {
    "collapsed": false
   }
  },
  {
   "cell_type": "code",
   "execution_count": 32,
   "outputs": [],
   "source": [
    "mask_layer_names = [k for k, _ in mask_one.items()]"
   ],
   "metadata": {
    "collapsed": false
   }
  },
  {
   "cell_type": "code",
   "execution_count": 33,
   "outputs": [
    {
     "name": "stdout",
     "output_type": "stream",
     "text": [
      "Layer: fc.weight In All: 12 In Two: 86 In One: 316\n",
      "Layer: fc_layers.1.weight In All: 3 In Two: 10 In One: 667\n",
      "Layer: fc_layers.0.weight In All: 0 In Two: 20 In One: 1280\n"
     ]
    }
   ],
   "source": [
    "# Doesn't seem to always select the same mask\n",
    "summed = {}\n",
    "for layer in mask_layer_names:\n",
    "    sum_masks = mask_one[layer] + mask_two[layer] + mask_three[layer]\n",
    "    summed[layer] = mask_one[layer] + mask_two[layer] + mask_three[layer]\n",
    "    print(f\"Layer: {layer} In All: {torch.sum(sum_masks[sum_masks==3])} In Two: {torch.sum(sum_masks[sum_masks==2])} In One: {torch.sum(sum_masks[sum_masks==1])}\")"
   ],
   "metadata": {
    "collapsed": false
   }
  },
  {
   "cell_type": "code",
   "execution_count": 34,
   "outputs": [
    {
     "name": "stdout",
     "output_type": "stream",
     "text": [
      "Layer: fc.weight Mean % Remaining: 13.800000190734863 (+/-)1.2124358415603638%\n",
      "Layer: fc_layers.1.weight Mean % Remaining: 0.7555555701255798 (+/-)0.02143031544983387%\n",
      "Layer: fc_layers.0.weight Mean % Remaining: 0.18424035608768463 (+/-)0.0030757561326026917%\n"
     ]
    }
   ],
   "source": [
    "summed = {}\n",
    "for layer in mask_layer_names:\n",
    "    num_in_layer = torch.numel(mask_one[layer])\n",
    "    mask_one_percent_remain = 100.0*torch.sum(mask_one[layer])/num_in_layer\n",
    "    mask_two_percent_remain = 100.0*torch.sum(mask_two[layer])/num_in_layer\n",
    "    mask_three_percent_remain = 100.0*torch.sum(mask_three[layer])/num_in_layer\n",
    "    tensor = torch.Tensor([mask_one_percent_remain, mask_two_percent_remain, mask_three_percent_remain])\n",
    "    std_remaining = torch.std(tensor)\n",
    "    mean_remaining = torch.mean(tensor)\n",
    "    print(f\"Layer: {layer} Mean % Remaining: {mean_remaining} (+/-){std_remaining}%\")"
   ],
   "metadata": {
    "collapsed": false
   }
  },
  {
   "cell_type": "markdown",
   "source": [
    "Final layer still most important, but more get pruned from it than with magnitude pruning"
   ],
   "metadata": {
    "collapsed": false
   }
  },
  {
   "cell_type": "markdown",
   "source": [
    "### Fisher Pruning with Same Initialised Weights"
   ],
   "metadata": {
    "collapsed": false
   }
  },
  {
   "cell_type": "code",
   "execution_count": 35,
   "outputs": [],
   "source": [
    "model_one = torch.load(\"../open_lth_data/lottery_cd266af56b88fdc609f3b0730099b9ae/replicate_1/level_26/main/model_ep40_it0.pth\")\n",
    "model_two = torch.load(\"../open_lth_data/lottery_2b91610079d8174227c1809b75f0e9e4/replicate_1/level_26/main/model_ep40_it0.pth\")"
   ],
   "metadata": {
    "collapsed": false
   }
  },
  {
   "cell_type": "code",
   "execution_count": 36,
   "outputs": [],
   "source": [
    "mask_one = torch.load(\"../open_lth_data/lottery_cd266af56b88fdc609f3b0730099b9ae/replicate_1/level_26/main/mask.pth\")\n",
    "mask_two = torch.load(\"../open_lth_data/lottery_2b91610079d8174227c1809b75f0e9e4/replicate_1/level_26/main/mask.pth\")"
   ],
   "metadata": {
    "collapsed": false
   }
  },
  {
   "cell_type": "code",
   "execution_count": 37,
   "outputs": [],
   "source": [
    "mask_layer_names = [k for k, _ in mask_one.items()]"
   ],
   "metadata": {
    "collapsed": false
   }
  },
  {
   "cell_type": "code",
   "execution_count": 38,
   "outputs": [
    {
     "name": "stdout",
     "output_type": "stream",
     "text": [
      "Layer: fc.weight In Two: 124 In One: 223\n",
      "Layer: fc_layers.1.weight In Two: 24 In One: 424\n",
      "Layer: fc_layers.0.weight In Two: 24 In One: 777\n"
     ]
    }
   ],
   "source": [
    "# Doesn't seem to always select the same mask\n",
    "summed = {}\n",
    "for layer in mask_layer_names:\n",
    "    sum_masks = mask_one[layer] + mask_two[layer]\n",
    "    summed[layer] = mask_one[layer] + mask_two[layer]\n",
    "    print(f\"Layer: {layer} In Two: {torch.sum(sum_masks[sum_masks==2])} In One: {torch.sum(sum_masks[sum_masks==1])}\")"
   ],
   "metadata": {
    "collapsed": false
   }
  },
  {
   "cell_type": "code",
   "execution_count": 39,
   "outputs": [
    {
     "name": "stdout",
     "output_type": "stream",
     "text": [
      "Layer: fc.weight Mean % Remaining: 15.800000190734863 (+/-)2.920616626739502%\n",
      "Layer: fc_layers.1.weight Mean % Remaining: 0.757777750492096 (+/-)0.01924499124288559%\n",
      "Layer: fc_layers.0.weight Mean % Remaining: 0.17545349895954132 (+/-)0.010207029059529305%\n"
     ]
    }
   ],
   "source": [
    "summed = {}\n",
    "for layer in mask_layer_names:\n",
    "    num_in_layer = torch.numel(mask_one[layer])\n",
    "    mask_one_percent_remain = 100.0*torch.sum(mask_one[layer])/num_in_layer\n",
    "    mask_two_percent_remain = 100.0*torch.sum(mask_two[layer])/num_in_layer\n",
    "    mask_three_percent_remain = 100.0*torch.sum(mask_three[layer])/num_in_layer\n",
    "    tensor = torch.Tensor([mask_one_percent_remain, mask_two_percent_remain, mask_three_percent_remain])\n",
    "    std_remaining = torch.std(tensor)\n",
    "    mean_remaining = torch.mean(tensor)\n",
    "    print(f\"Layer: {layer} Mean % Remaining: {mean_remaining} (+/-){std_remaining}%\")"
   ],
   "metadata": {
    "collapsed": false
   }
  },
  {
   "cell_type": "code",
   "execution_count": null,
   "outputs": [],
   "source": [],
   "metadata": {
    "collapsed": false
   }
  }
 ],
 "metadata": {
  "kernelspec": {
   "display_name": "Python 3",
   "language": "python",
   "name": "python3"
  },
  "language_info": {
   "codemirror_mode": {
    "name": "ipython",
    "version": 2
   },
   "file_extension": ".py",
   "mimetype": "text/x-python",
   "name": "python",
   "nbconvert_exporter": "python",
   "pygments_lexer": "ipython2",
   "version": "2.7.6"
  }
 },
 "nbformat": 4,
 "nbformat_minor": 0
}
